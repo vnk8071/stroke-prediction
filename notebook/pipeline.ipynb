{
 "cells": [
  {
   "cell_type": "markdown",
   "metadata": {},
   "source": [
    "## Load dataset"
   ]
  },
  {
   "cell_type": "code",
   "execution_count": 1,
   "metadata": {},
   "outputs": [
    {
     "data": {
      "text/html": [
       "<div>\n",
       "<style scoped>\n",
       "    .dataframe tbody tr th:only-of-type {\n",
       "        vertical-align: middle;\n",
       "    }\n",
       "\n",
       "    .dataframe tbody tr th {\n",
       "        vertical-align: top;\n",
       "    }\n",
       "\n",
       "    .dataframe thead th {\n",
       "        text-align: right;\n",
       "    }\n",
       "</style>\n",
       "<table border=\"1\" class=\"dataframe\">\n",
       "  <thead>\n",
       "    <tr style=\"text-align: right;\">\n",
       "      <th></th>\n",
       "      <th>id</th>\n",
       "      <th>gender</th>\n",
       "      <th>age</th>\n",
       "      <th>hypertension</th>\n",
       "      <th>heart_disease</th>\n",
       "      <th>ever_married</th>\n",
       "      <th>work_type</th>\n",
       "      <th>Residence_type</th>\n",
       "      <th>avg_glucose_level</th>\n",
       "      <th>bmi</th>\n",
       "      <th>smoking_status</th>\n",
       "      <th>stroke</th>\n",
       "    </tr>\n",
       "  </thead>\n",
       "  <tbody>\n",
       "    <tr>\n",
       "      <th>0</th>\n",
       "      <td>9046</td>\n",
       "      <td>Male</td>\n",
       "      <td>67.0</td>\n",
       "      <td>0</td>\n",
       "      <td>1</td>\n",
       "      <td>Yes</td>\n",
       "      <td>Private</td>\n",
       "      <td>Urban</td>\n",
       "      <td>228.69</td>\n",
       "      <td>36.6</td>\n",
       "      <td>formerly smoked</td>\n",
       "      <td>1</td>\n",
       "    </tr>\n",
       "    <tr>\n",
       "      <th>1</th>\n",
       "      <td>51676</td>\n",
       "      <td>Female</td>\n",
       "      <td>61.0</td>\n",
       "      <td>0</td>\n",
       "      <td>0</td>\n",
       "      <td>Yes</td>\n",
       "      <td>Self-employed</td>\n",
       "      <td>Rural</td>\n",
       "      <td>202.21</td>\n",
       "      <td>NaN</td>\n",
       "      <td>never smoked</td>\n",
       "      <td>1</td>\n",
       "    </tr>\n",
       "    <tr>\n",
       "      <th>2</th>\n",
       "      <td>31112</td>\n",
       "      <td>Male</td>\n",
       "      <td>80.0</td>\n",
       "      <td>0</td>\n",
       "      <td>1</td>\n",
       "      <td>Yes</td>\n",
       "      <td>Private</td>\n",
       "      <td>Rural</td>\n",
       "      <td>105.92</td>\n",
       "      <td>32.5</td>\n",
       "      <td>never smoked</td>\n",
       "      <td>1</td>\n",
       "    </tr>\n",
       "    <tr>\n",
       "      <th>3</th>\n",
       "      <td>60182</td>\n",
       "      <td>Female</td>\n",
       "      <td>49.0</td>\n",
       "      <td>0</td>\n",
       "      <td>0</td>\n",
       "      <td>Yes</td>\n",
       "      <td>Private</td>\n",
       "      <td>Urban</td>\n",
       "      <td>171.23</td>\n",
       "      <td>34.4</td>\n",
       "      <td>smokes</td>\n",
       "      <td>1</td>\n",
       "    </tr>\n",
       "    <tr>\n",
       "      <th>4</th>\n",
       "      <td>1665</td>\n",
       "      <td>Female</td>\n",
       "      <td>79.0</td>\n",
       "      <td>1</td>\n",
       "      <td>0</td>\n",
       "      <td>Yes</td>\n",
       "      <td>Self-employed</td>\n",
       "      <td>Rural</td>\n",
       "      <td>174.12</td>\n",
       "      <td>24.0</td>\n",
       "      <td>never smoked</td>\n",
       "      <td>1</td>\n",
       "    </tr>\n",
       "  </tbody>\n",
       "</table>\n",
       "</div>"
      ],
      "text/plain": [
       "      id  gender   age  hypertension  heart_disease ever_married  \\\n",
       "0   9046    Male  67.0             0              1          Yes   \n",
       "1  51676  Female  61.0             0              0          Yes   \n",
       "2  31112    Male  80.0             0              1          Yes   \n",
       "3  60182  Female  49.0             0              0          Yes   \n",
       "4   1665  Female  79.0             1              0          Yes   \n",
       "\n",
       "       work_type Residence_type  avg_glucose_level   bmi   smoking_status  \\\n",
       "0        Private          Urban             228.69  36.6  formerly smoked   \n",
       "1  Self-employed          Rural             202.21   NaN     never smoked   \n",
       "2        Private          Rural             105.92  32.5     never smoked   \n",
       "3        Private          Urban             171.23  34.4           smokes   \n",
       "4  Self-employed          Rural             174.12  24.0     never smoked   \n",
       "\n",
       "   stroke  \n",
       "0       1  \n",
       "1       1  \n",
       "2       1  \n",
       "3       1  \n",
       "4       1  "
      ]
     },
     "execution_count": 1,
     "metadata": {},
     "output_type": "execute_result"
    }
   ],
   "source": [
    "import pandas as pd\n",
    "\n",
    "df = pd.read_csv('data/healthcare-dataset-stroke-data.csv')\n",
    "df.head()"
   ]
  },
  {
   "cell_type": "markdown",
   "metadata": {},
   "source": [
    "## ETL pipeline\n",
    "### Extract data from csv files\n",
    "- Load data into dataframe\n",
    "- Extract metadata\n",
    "### Transform data\n",
    "- fill_missing(df=df, columns=[\"bmi\"])\n",
    "- drop_match_values(df=df, column=\"gender\", value=\"Other\")\n",
    "- drop_columns(df=df, columns=[\"id\"])\n",
    "- reformat_type(df=df, columns=[\"age\"], type=\"int64\")\n",
    "### Load data into database\n",
    "- Split dataframe into train and test\n",
    "- Save csv files"
   ]
  },
  {
   "cell_type": "code",
   "execution_count": 2,
   "metadata": {},
   "outputs": [
    {
     "name": "stdout",
     "output_type": "stream",
     "text": [
      "2023-09-23 20:20:44,663 - extract_transform_load.extract - INFO - Reading file from data/healthcare-dataset-stroke-data.csv\n",
      "2023-09-23 20:20:44,675 - extract_transform_load.extract - INFO - Extracting metadata\n",
      "2023-09-23 20:20:44,678 - extract_transform_load.extract - INFO - Metadata: {'file_path': 'data/healthcare-dataset-stroke-data.csv', 'shape': (5110, 12), 'columns': ['id', 'gender', 'age', 'hypertension', 'heart_disease', 'ever_married', 'work_type', 'Residence_type', 'avg_glucose_level', 'bmi', 'smoking_status', 'stroke'], 'dtypes': {'id': dtype('int64'), 'gender': dtype('O'), 'age': dtype('float64'), 'hypertension': dtype('int64'), 'heart_disease': dtype('int64'), 'ever_married': dtype('O'), 'work_type': dtype('O'), 'Residence_type': dtype('O'), 'avg_glucose_level': dtype('float64'), 'bmi': dtype('float64'), 'smoking_status': dtype('O'), 'stroke': dtype('int64')}, 'category_columns': [], 'numeric_columns': ['id', 'age', 'hypertension', 'heart_disease', 'avg_glucose_level', 'bmi', 'stroke']}\n",
      "2023-09-23 20:20:44,678 - extract_transform_load.transform - INFO - Filling missing values in ['bmi']\n",
      "2023-09-23 20:20:44,692 - extract_transform_load.transform - INFO - Dropping rows with Other in gender\n",
      "2023-09-23 20:20:44,699 - extract_transform_load.transform - INFO - Dropping columns ['id']\n",
      "2023-09-23 20:20:44,700 - extract_transform_load.transform - INFO - Reformatting type of ['age'] to int64\n",
      "2023-09-23 20:20:44,703 - extract_transform_load.load - INFO - Splitting data into train and test sets with no stroke record test size of 0.05\n",
      "2023-09-23 20:20:44,708 - extract_transform_load.load - INFO - Splitting data into train and test sets with stroke record test size of 0.2\n",
      "2023-09-23 20:20:44,714 - extract_transform_load.load - INFO - Saving file to data/df_train_preprocess.csv\n",
      "2023-09-23 20:20:44,744 - extract_transform_load.load - INFO - Saving file to data/df_test_preprocess.csv\n",
      "2023-09-23 20:20:44,747 - __main__ - INFO - Pipeline completed\n"
     ]
    }
   ],
   "source": [
    "!python extract_transform_load/pipeline.py"
   ]
  },
  {
   "cell_type": "markdown",
   "metadata": {},
   "source": [
    "## Load preprocessed data"
   ]
  },
  {
   "cell_type": "code",
   "execution_count": 3,
   "metadata": {},
   "outputs": [
    {
     "name": "stdout",
     "output_type": "stream",
     "text": [
      "      gender  age  hypertension  heart_disease ever_married      work_type  \\\n",
      "0       Male   43             0              0          Yes  Self-employed   \n",
      "1     Female   76             1              1          Yes        Private   \n",
      "2       Male   78             0              1          Yes        Private   \n",
      "3     Female   52             0              0          Yes  Self-employed   \n",
      "4     Female   72             1              1          Yes        Private   \n",
      "...      ...  ...           ...            ...          ...            ...   \n",
      "4811  Female   69             1              1           No  Self-employed   \n",
      "4812  Female   57             0              1          Yes        Private   \n",
      "4813    Male   81             1              1          Yes        Private   \n",
      "4814    Male   78             0              0          Yes        Private   \n",
      "4815    Male   64             0              1          Yes        Private   \n",
      "\n",
      "     Residence_type  avg_glucose_level    bmi   smoking_status  stroke  \n",
      "0             Rural              99.15  30.50  formerly smoked       0  \n",
      "1             Rural             102.08  31.00           smokes       0  \n",
      "2             Urban             145.03  26.80  formerly smoked       0  \n",
      "3             Urban              89.59  27.50          Unknown       0  \n",
      "4             Urban             198.32  31.30  formerly smoked       0  \n",
      "...             ...                ...    ...              ...     ...  \n",
      "4811          Urban              72.17  36.80     never smoked       1  \n",
      "4812          Urban             216.58  31.00          Unknown       1  \n",
      "4813          Urban             250.89  28.10           smokes       1  \n",
      "4814          Urban             237.75  28.89  formerly smoked       1  \n",
      "4815          Urban             191.61  37.50           smokes       1  \n",
      "\n",
      "[4816 rows x 11 columns]\n",
      "     gender  age  hypertension  heart_disease ever_married      work_type  \\\n",
      "0    Female   50             0              0          Yes        Private   \n",
      "1      Male   14             0              0           No        Private   \n",
      "2      Male   55             0              0          Yes        Private   \n",
      "3      Male   27             0              0          Yes        Private   \n",
      "4      Male   48             0              0          Yes        Private   \n",
      "..      ...  ...           ...            ...          ...            ...   \n",
      "288    Male   65             0              0          Yes  Self-employed   \n",
      "289  Female   56             0              0          Yes        Private   \n",
      "290    Male   71             1              0          Yes  Self-employed   \n",
      "291  Female   71             0              0          Yes  Self-employed   \n",
      "292    Male   80             0              0          Yes        Private   \n",
      "\n",
      "    Residence_type  avg_glucose_level    bmi   smoking_status  stroke  \n",
      "0            Urban              75.88  30.00     never smoked       0  \n",
      "1            Rural             103.44  20.10     never smoked       0  \n",
      "2            Urban             203.81  33.90  formerly smoked       0  \n",
      "3            Rural             102.64  26.40           smokes       0  \n",
      "4            Rural             113.84  21.90     never smoked       0  \n",
      "..             ...                ...    ...              ...     ...  \n",
      "288          Urban              68.43  28.89  formerly smoked       1  \n",
      "289          Urban             185.17  40.40  formerly smoked       1  \n",
      "290          Rural              87.80  28.89          Unknown       1  \n",
      "291          Urban             195.71  34.10  formerly smoked       1  \n",
      "292          Rural             259.63  31.70           smokes       1  \n",
      "\n",
      "[293 rows x 11 columns]\n"
     ]
    }
   ],
   "source": [
    "df_train = pd.read_csv('data/df_train_preprocess.csv')\n",
    "print(df_train)\n",
    "\n",
    "df_test = pd.read_csv('data/df_test_preprocess.csv')\n",
    "print(df_test)\n"
   ]
  },
  {
   "cell_type": "markdown",
   "metadata": {},
   "source": [
    "## Feature engineering\n",
    "### Standardize & label encode\n",
    "- Standardize numerical features\n",
    "- Label encode categorical features\n",
    "### SMOTE oversampling\n",
    "### Feature selection"
   ]
  },
  {
   "cell_type": "code",
   "execution_count": 4,
   "metadata": {},
   "outputs": [
    {
     "name": "stdout",
     "output_type": "stream",
     "text": [
      "2023-09-23 20:24:30,992 - feature_engineering.standardlize - INFO - Standardizing ['age', 'hypertension', 'heart_disease', 'avg_glucose_level', 'bmi']\n",
      "2023-09-23 20:24:31,001 - feature_engineering.standardlize - INFO - Label encoding ['gender', 'ever_married', 'work_type', 'Residence_type', 'smoking_status']\n",
      "2023-09-23 20:24:31,076 - feature_engineering.standardlize - INFO - Standardizing ['age', 'hypertension', 'heart_disease', 'avg_glucose_level', 'bmi']\n",
      "2023-09-23 20:24:31,087 - feature_engineering.standardlize - INFO - Label encoding ['gender', 'ever_married', 'work_type', 'Residence_type', 'smoking_status']\n",
      "2023-09-23 20:24:31,096 - feature_engineering.smote - INFO - Balancing data with target class stroke\n",
      "2023-09-23 20:24:35,801 - feature_engineering.feature_selection - INFO - 7 important features\n",
      "2023-09-23 20:24:35,801 - feature_engineering.feature_selection - INFO - Index(['gender', 'age', 'hypertension', 'work_type', 'avg_glucose_level',\n",
      "       'bmi', 'smoking_status'],\n",
      "      dtype='object')\n",
      "2023-09-23 20:24:35,885 - feature_engineering.feature_selection - INFO - Saved data/df_train_feature_engineering_smote_selection.csv and data/df_test_feature_engineering_selection.csv\n",
      "2023-09-23 20:24:35,888 - __main__ - INFO - Pipeline completed\n"
     ]
    }
   ],
   "source": [
    "!python feature_engineering/pipeline.py"
   ]
  },
  {
   "cell_type": "markdown",
   "metadata": {},
   "source": [
    "## Load feature engineered data"
   ]
  },
  {
   "cell_type": "code",
   "execution_count": 7,
   "metadata": {},
   "outputs": [
    {
     "name": "stdout",
     "output_type": "stream",
     "text": [
      "      gender       age  hypertension  heart_disease  ever_married  work_type  \\\n",
      "0          1 -0.001744     -0.326913      -0.236940             1          3   \n",
      "1          0  1.456823      3.058920       4.220486             1          2   \n",
      "2          1  1.545221     -0.326913       4.220486             1          2   \n",
      "3          0  0.396047     -0.326913      -0.236940             1          3   \n",
      "4          0  1.280027      3.058920       4.220486             1          2   \n",
      "...      ...       ...           ...            ...           ...        ...   \n",
      "4811       0  1.147430      3.058920       4.220486             0          3   \n",
      "4812       0  0.617042     -0.326913       4.220486             1          2   \n",
      "4813       1  1.677818      3.058920       4.220486             1          2   \n",
      "4814       1  1.545221     -0.326913      -0.236940             1          2   \n",
      "4815       1  0.926435     -0.326913       4.220486             1          2   \n",
      "\n",
      "      Residence_type  avg_glucose_level       bmi  smoking_status  stroke  \n",
      "0                  0          -0.148317  0.208834               1       0  \n",
      "1                  0          -0.083058  0.273361               3       0  \n",
      "2                  1           0.873554 -0.268665               1       0  \n",
      "3                  1          -0.361244 -0.178327               0       0  \n",
      "4                  1           2.060465  0.312078               1       0  \n",
      "...              ...                ...       ...             ...     ...  \n",
      "4811               1          -0.749234  1.021874               2       1  \n",
      "4812               1           2.467165  0.273361               0       1  \n",
      "4813               1           3.231341 -0.100895               3       1  \n",
      "4814               1           2.938678  0.001058               1       1  \n",
      "4815               1           1.911016  1.112211               3       1  \n",
      "\n",
      "[4816 rows x 11 columns]\n",
      "     gender       age  hypertension  heart_disease  ever_married  work_type  \\\n",
      "0         0  0.170084     -0.356263      -0.270666             1          1   \n",
      "1         1 -1.426042     -0.356263      -0.270666             0          1   \n",
      "2         1  0.391768     -0.356263      -0.270666             1          1   \n",
      "3         1 -0.849663     -0.356263      -0.270666             1          1   \n",
      "4         1  0.081410     -0.356263      -0.270666             1          1   \n",
      "..      ...       ...           ...            ...           ...        ...   \n",
      "288       1  0.835137     -0.356263      -0.270666             1          2   \n",
      "289       0  0.436105     -0.356263      -0.270666             1          1   \n",
      "290       1  1.101158      2.806918      -0.270666             1          2   \n",
      "291       0  1.101158     -0.356263      -0.270666             1          2   \n",
      "292       1  1.500189     -0.356263      -0.270666             1          1   \n",
      "\n",
      "     Residence_type  avg_glucose_level       bmi  smoking_status  stroke  \n",
      "0                 1          -0.702139  0.132247               2       0  \n",
      "1                 0          -0.160172 -1.324238               2       0  \n",
      "2                 1           1.813605  0.706014               1       0  \n",
      "3                 0          -0.175904 -0.397384               3       0  \n",
      "4                 0           0.044344 -1.059423               2       0  \n",
      "..              ...                ...       ...             ...     ...  \n",
      "288               1          -0.848644 -0.031056               1       1  \n",
      "289               1           1.447049  1.662292               1       1  \n",
      "290               0          -0.467733 -0.031056               0       1  \n",
      "291               1           1.654319  0.735438               1       1  \n",
      "292               0           2.911306  0.382351               3       1  \n",
      "\n",
      "[293 rows x 11 columns]\n"
     ]
    }
   ],
   "source": [
    "df_train = pd.read_csv('data/df_train_feature_engineering.csv')\n",
    "print(df_train)\n",
    "\n",
    "df_test = pd.read_csv('data/df_test_feature_engineering.csv')\n",
    "print(df_test)"
   ]
  },
  {
   "cell_type": "code",
   "execution_count": 11,
   "metadata": {},
   "outputs": [
    {
     "data": {
      "text/plain": [
       "[Text(0.5, 1.0, 'Stroke Distribution in Train Data')]"
      ]
     },
     "execution_count": 11,
     "metadata": {},
     "output_type": "execute_result"
    },
    {
     "data": {
      "image/png": "[encoded data removed]",
      "text/plain": [
       "<Figure size 640x480 with 1 Axes>"
      ]
     },
     "metadata": {},
     "output_type": "display_data"
    }
   ],
   "source": [
    "import seaborn as sns\n",
    "\n",
    "sns.barplot(x=df_train.stroke.value_counts().index, y=df_train.stroke.value_counts()).set(title='Stroke Distribution in Train Data')\n"
   ]
  },
  {
   "cell_type": "code",
   "execution_count": 12,
   "metadata": {},
   "outputs": [
    {
     "data": {
      "text/plain": [
       "[Text(0.5, 1.0, 'Stroke Distribution in Test Data')]"
      ]
     },
     "execution_count": 12,
     "metadata": {},
     "output_type": "execute_result"
    },
    {
     "data": {
      "image/png": "[encoded data removed]",
      "text/plain": [
       "<Figure size 640x480 with 1 Axes>"
      ]
     },
     "metadata": {},
     "output_type": "display_data"
    }
   ],
   "source": [
    "sns.barplot(x=df_test.stroke.value_counts().index, y=df_test.stroke.value_counts()).set(title='Stroke Distribution in Test Data')"
   ]
  },
  {
   "cell_type": "code",
   "execution_count": 14,
   "metadata": {},
   "outputs": [
    {
     "name": "stdout",
     "output_type": "stream",
     "text": [
      "      gender       age  hypertension  work_type  avg_glucose_level       bmi  \\\n",
      "0          1 -0.001744     -0.326913          3          -0.148317  0.208834   \n",
      "1          0  1.456823      3.058920          2          -0.083058  0.273361   \n",
      "2          1  1.545221     -0.326913          2           0.873554 -0.268665   \n",
      "3          0  0.396047     -0.326913          3          -0.361244 -0.178327   \n",
      "4          0  1.280027      3.058920          2           2.060465  0.312078   \n",
      "...      ...       ...           ...        ...                ...       ...   \n",
      "9229       1  1.454538     -0.326913          2           3.096170  0.168746   \n",
      "9230       0  0.733505     -0.326913          2          -0.965646 -0.069380   \n",
      "9231       0  1.487272     -0.326913          3           1.163828  0.071241   \n",
      "9232       1  0.796946      2.939865          2           0.209386  1.095222   \n",
      "9233       1  0.597087     -0.326913          2          -0.442576  0.063706   \n",
      "\n",
      "      smoking_status  stroke  \n",
      "0                  1       0  \n",
      "1                  3       0  \n",
      "2                  1       0  \n",
      "3                  0       0  \n",
      "4                  1       0  \n",
      "...              ...     ...  \n",
      "9229               1       1  \n",
      "9230               1       1  \n",
      "9231               0       1  \n",
      "9232               2       1  \n",
      "9233               3       1  \n",
      "\n",
      "[9234 rows x 8 columns]\n"
     ]
    }
   ],
   "source": [
    "df_train_selection_smote = pd.read_csv('data/df_train_feature_engineering_smote_selection.csv')\n",
    "print(df_train_selection_smote)"
   ]
  },
  {
   "cell_type": "code",
   "execution_count": 15,
   "metadata": {},
   "outputs": [
    {
     "data": {
      "text/plain": [
       "[Text(0.5, 1.0, 'Stroke Distribution in Train Data with SMOTE and Feature Selection')]"
      ]
     },
     "execution_count": 15,
     "metadata": {},
     "output_type": "execute_result"
    },
    {
     "data": {
      "image/png": "[encoded data removed]",
      "text/plain": [
       "<Figure size 640x480 with 1 Axes>"
      ]
     },
     "metadata": {},
     "output_type": "display_data"
    }
   ],
   "source": [
    "sns.barplot(x=df_train_selection_smote.stroke.value_counts().index, y=df_train_selection_smote.stroke.value_counts()).set(title='Stroke Distribution in Train Data with SMOTE and Feature Selection')"
   ]
  },
  {
   "cell_type": "markdown",
   "metadata": {},
   "source": [
    "## Hyperparameter tuning\n",
    "See details in `training/sagemaker-hyperparameter-tuning.ipynb`"
   ]
  },
  {
   "cell_type": "markdown",
   "metadata": {},
   "source": [
    "## Train model"
   ]
  },
  {
   "cell_type": "markdown",
   "metadata": {},
   "source": [
    "### Logistic regression without SMOTE and feature selection"
   ]
  },
  {
   "cell_type": "code",
   "execution_count": 22,
   "metadata": {},
   "outputs": [
    {
     "name": "stdout",
     "output_type": "stream",
     "text": [
      "2023-09-23 20:50:53,084 - __main__ - INFO - Running k-fold cross-validation\n",
      "2023-09-23 20:50:53,173 - __main__ - INFO - Fold 1: Accuracy=95.954% | F1-score=0.000% | AUC=0.500\n",
      "2023-09-23 20:50:53,256 - __main__ - INFO - Fold 2: Accuracy=96.781% | F1-score=0.000% | AUC=0.500\n",
      "2023-09-23 20:50:53,345 - __main__ - INFO - Fold 3: Accuracy=96.262% | F1-score=0.000% | AUC=0.500\n",
      "2023-09-23 20:50:53,410 - __main__ - INFO - Fold 4: Accuracy=94.393% | F1-score=0.000% | AUC=0.500\n",
      "2023-09-23 20:50:53,464 - __main__ - INFO - Fold 5: Accuracy=95.950% | F1-score=0.000% | AUC=0.500\n",
      "2023-09-23 20:50:53,465 - __main__ - INFO - CV Accuracy: Mean 95.868% & STD 0.797%\n",
      "2023-09-23 20:50:53,465 - __main__ - INFO - CV F1-score: Mean 0.000% & STD  0.000%\n",
      "2023-09-23 20:50:53,465 - __main__ - INFO - CV AUC: Mean 0.500 & STD  0.000\n",
      "2023-09-23 20:50:53,547 - __main__ - INFO - test set - Accuracy : 82.935%\n",
      "2023-09-23 20:50:53,548 - __main__ - INFO - test set - F1-score : 0.000%\n",
      "2023-09-23 20:50:53,548 - __main__ - INFO - test set - AUC: 0.500\n",
      "/Users/macos/miniconda3/envs/mle/lib/python3.8/site-packages/sklearn/metrics/_classification.py:1344: UndefinedMetricWarning: Precision and F-score are ill-defined and being set to 0.0 in labels with no predicted samples. Use `zero_division` parameter to control this behavior.\n",
      "  _warn_prf(average, modifier, msg_start, len(result))\n",
      "/Users/macos/miniconda3/envs/mle/lib/python3.8/site-packages/sklearn/metrics/_classification.py:1344: UndefinedMetricWarning: Precision and F-score are ill-defined and being set to 0.0 in labels with no predicted samples. Use `zero_division` parameter to control this behavior.\n",
      "  _warn_prf(average, modifier, msg_start, len(result))\n",
      "/Users/macos/miniconda3/envs/mle/lib/python3.8/site-packages/sklearn/metrics/_classification.py:1344: UndefinedMetricWarning: Precision and F-score are ill-defined and being set to 0.0 in labels with no predicted samples. Use `zero_division` parameter to control this behavior.\n",
      "  _warn_prf(average, modifier, msg_start, len(result))\n",
      "2023-09-23 20:50:53,562 - __main__ - INFO - Classification_report \n",
      "              precision    recall  f1-score   support\n",
      "\n",
      "           0       0.83      1.00      0.91       243\n",
      "           1       0.00      0.00      0.00        50\n",
      "\n",
      "    accuracy                           0.83       293\n",
      "   macro avg       0.41      0.50      0.45       293\n",
      "weighted avg       0.69      0.83      0.75       293\n",
      "\n",
      "2023-09-23 20:50:53,563 - __main__ - INFO - Confusion matrix: \n",
      "[[243   0]\n",
      " [ 50   0]]\n",
      "2023-09-23 20:50:53,564 - __main__ - INFO - {'C': 1.0, 'class_weight': None, 'dual': False, 'fit_intercept': True, 'intercept_scaling': 1, 'l1_ratio': None, 'max_iter': 100, 'multi_class': 'auto', 'n_jobs': None, 'penalty': 'l2', 'random_state': 8071, 'solver': 'saga', 'tol': 0.0001, 'verbose': 0, 'warm_start': False}\n",
      "2023-09-23 20:50:53,565 - __main__ - INFO - Features importance:\n",
      "2023-09-23 20:50:53,565 - __main__ - INFO -         feature_name      coef  coef_abs\n",
      "1                age  1.550981  1.550981\n",
      "7  avg_glucose_level  0.159258  0.159258\n",
      "0             gender  0.151664  0.151664\n",
      "2       hypertension  0.106575  0.106575\n",
      "6     Residence_type  0.106257  0.106257\n",
      "3      heart_disease  0.062495  0.062495\n",
      "9     smoking_status  0.038170  0.038170\n",
      "8                bmi  0.023755  0.023755\n",
      "5          work_type -0.093625  0.093625\n",
      "4       ever_married -0.215402  0.215402\n"
     ]
    }
   ],
   "source": [
    "!python training/train_model_lr.py \\\n",
    "    --training-input data/df_train_feature_engineering.csv \\\n",
    "    --test-input data/df_test_feature_engineering.csv \\\n",
    "    --model-output-dir models\n"
   ]
  },
  {
   "cell_type": "markdown",
   "metadata": {},
   "source": [
    "### Logistic regression with SMOTE and feature selection"
   ]
  },
  {
   "cell_type": "code",
   "execution_count": 27,
   "metadata": {},
   "outputs": [
    {
     "name": "stdout",
     "output_type": "stream",
     "text": [
      "2023-09-23 20:58:28,721 - __main__ - INFO - Running k-fold cross-validation\n",
      "2023-09-23 20:58:28,756 - __main__ - INFO - Fold 1: Accuracy=79.805% | F1-score=80.296% | AUC=0.798\n",
      "2023-09-23 20:58:28,786 - __main__ - INFO - Fold 2: Accuracy=79.372% | F1-score=80.330% | AUC=0.793\n",
      "2023-09-23 20:58:28,815 - __main__ - INFO - Fold 3: Accuracy=78.506% | F1-score=79.377% | AUC=0.786\n",
      "2023-09-23 20:58:28,848 - __main__ - INFO - Fold 4: Accuracy=78.831% | F1-score=79.497% | AUC=0.789\n",
      "2023-09-23 20:58:28,876 - __main__ - INFO - Fold 5: Accuracy=78.873% | F1-score=79.938% | AUC=0.788\n",
      "2023-09-23 20:58:28,877 - __main__ - INFO - CV Accuracy: Mean 79.077% & STD 0.457%\n",
      "2023-09-23 20:58:28,877 - __main__ - INFO - CV F1-score: Mean 79.888% & STD  0.395%\n",
      "2023-09-23 20:58:28,877 - __main__ - INFO - CV AUC: Mean 0.791 & STD  0.005\n",
      "2023-09-23 20:58:28,910 - __main__ - INFO - test set - Accuracy : 78.840%\n",
      "2023-09-23 20:58:28,910 - __main__ - INFO - test set - F1-score : 56.338%\n",
      "2023-09-23 20:58:28,910 - __main__ - INFO - test set - AUC: 0.793\n",
      "2023-09-23 20:58:28,918 - __main__ - INFO - Classification_report \n",
      "              precision    recall  f1-score   support\n",
      "\n",
      "           0       0.95      0.79      0.86       243\n",
      "           1       0.43      0.80      0.56        50\n",
      "\n",
      "    accuracy                           0.79       293\n",
      "   macro avg       0.69      0.79      0.71       293\n",
      "weighted avg       0.86      0.79      0.81       293\n",
      "\n",
      "2023-09-23 20:58:28,919 - __main__ - INFO - Confusion matrix: \n",
      "[[191  52]\n",
      " [ 10  40]]\n",
      "2023-09-23 20:58:28,921 - __main__ - INFO - {'C': 1.0, 'class_weight': None, 'dual': False, 'fit_intercept': True, 'intercept_scaling': 1, 'l1_ratio': None, 'max_iter': 100, 'multi_class': 'auto', 'n_jobs': None, 'penalty': 'l2', 'random_state': 8071, 'solver': 'saga', 'tol': 0.0001, 'verbose': 0, 'warm_start': False}\n",
      "2023-09-23 20:58:28,922 - __main__ - INFO - Features importance:\n",
      "2023-09-23 20:58:28,922 - __main__ - INFO -         feature_name      coef  coef_abs\n",
      "1                age  1.967232  1.967232\n",
      "4  avg_glucose_level  0.187104  0.187104\n",
      "2       hypertension  0.099168  0.099168\n",
      "5                bmi -0.032643  0.032643\n",
      "3          work_type -0.243800  0.243800\n",
      "6     smoking_status -0.342148  0.342148\n",
      "0             gender -0.927211  0.927211\n"
     ]
    }
   ],
   "source": [
    "!python training/train_model_lr.py \\\n",
    "    --training-input data/df_train_feature_engineering_smote_selection.csv \\\n",
    "    --test-input data/df_test_feature_engineering_selection.csv \\\n",
    "    --model-output-dir models"
   ]
  },
  {
   "cell_type": "markdown",
   "metadata": {},
   "source": [
    "### Random forest without SMOTE and feature selection"
   ]
  },
  {
   "cell_type": "code",
   "execution_count": 28,
   "metadata": {},
   "outputs": [
    {
     "name": "stdout",
     "output_type": "stream",
     "text": [
      "2023-09-23 20:58:34,836 - __main__ - INFO - Running k-fold cross-validation\n",
      "2023-09-23 20:58:35,273 - __main__ - INFO - Fold 1: Accuracy=95.851% | F1-score=4.762% | AUC=0.512\n",
      "2023-09-23 20:58:35,697 - __main__ - INFO - Fold 2: Accuracy=96.677% | F1-score=0.000% | AUC=0.499\n",
      "2023-09-23 20:58:36,087 - __main__ - INFO - Fold 3: Accuracy=96.262% | F1-score=5.263% | AUC=0.513\n",
      "2023-09-23 20:58:36,443 - __main__ - INFO - Fold 4: Accuracy=94.289% | F1-score=0.000% | AUC=0.499\n",
      "2023-09-23 20:58:36,808 - __main__ - INFO - Fold 5: Accuracy=95.950% | F1-score=0.000% | AUC=0.500\n",
      "2023-09-23 20:58:36,808 - __main__ - INFO - CV Accuracy: Mean 95.806% & STD 0.811%\n",
      "2023-09-23 20:58:36,808 - __main__ - INFO - CV F1-score: Mean 2.005% & STD  2.461%\n",
      "2023-09-23 20:58:36,809 - __main__ - INFO - CV AUC: Mean 0.505 & STD  0.006\n",
      "2023-09-23 20:58:37,230 - __main__ - INFO - test set - Accuracy : 82.935%\n",
      "2023-09-23 20:58:37,230 - __main__ - INFO - test set - F1-score : 0.000%\n",
      "2023-09-23 20:58:37,230 - __main__ - INFO - test set - AUC: 0.500\n",
      "/Users/macos/miniconda3/envs/mle/lib/python3.8/site-packages/sklearn/metrics/_classification.py:1344: UndefinedMetricWarning: Precision and F-score are ill-defined and being set to 0.0 in labels with no predicted samples. Use `zero_division` parameter to control this behavior.\n",
      "  _warn_prf(average, modifier, msg_start, len(result))\n",
      "/Users/macos/miniconda3/envs/mle/lib/python3.8/site-packages/sklearn/metrics/_classification.py:1344: UndefinedMetricWarning: Precision and F-score are ill-defined and being set to 0.0 in labels with no predicted samples. Use `zero_division` parameter to control this behavior.\n",
      "  _warn_prf(average, modifier, msg_start, len(result))\n",
      "/Users/macos/miniconda3/envs/mle/lib/python3.8/site-packages/sklearn/metrics/_classification.py:1344: UndefinedMetricWarning: Precision and F-score are ill-defined and being set to 0.0 in labels with no predicted samples. Use `zero_division` parameter to control this behavior.\n",
      "  _warn_prf(average, modifier, msg_start, len(result))\n",
      "2023-09-23 20:58:37,245 - __main__ - INFO - Classification_report \n",
      "              precision    recall  f1-score   support\n",
      "\n",
      "           0       0.83      1.00      0.91       243\n",
      "           1       0.00      0.00      0.00        50\n",
      "\n",
      "    accuracy                           0.83       293\n",
      "   macro avg       0.41      0.50      0.45       293\n",
      "weighted avg       0.69      0.83      0.75       293\n",
      "\n",
      "2023-09-23 20:58:37,246 - __main__ - INFO - Confusion matrix: \n",
      "[[243   0]\n",
      " [ 50   0]]\n",
      "2023-09-23 20:58:37,252 - __main__ - INFO - {'bootstrap': True, 'ccp_alpha': 0.0, 'class_weight': None, 'criterion': 'gini', 'max_depth': 20, 'max_features': 'sqrt', 'max_leaf_nodes': None, 'max_samples': None, 'min_impurity_decrease': 0.0, 'min_samples_leaf': 1, 'min_samples_split': 2, 'min_weight_fraction_leaf': 0.0, 'n_estimators': 100, 'n_jobs': None, 'oob_score': False, 'random_state': 8071, 'verbose': 0, 'warm_start': False}\n",
      "2023-09-23 20:58:37,252 - __main__ - INFO - Feature importances:\n",
      "2023-09-23 20:58:37,252 - __main__ - INFO -         feature_name      coef  coef_abs\n",
      "7  avg_glucose_level  0.284856  0.284856\n",
      "8                bmi  0.238355  0.238355\n",
      "1                age  0.224711  0.224711\n",
      "9     smoking_status  0.067830  0.067830\n",
      "5          work_type  0.053587  0.053587\n",
      "6     Residence_type  0.033944  0.033944\n",
      "0             gender  0.033104  0.033104\n",
      "2       hypertension  0.024260  0.024260\n",
      "3      heart_disease  0.020801  0.020801\n",
      "4       ever_married  0.018551  0.018551\n"
     ]
    }
   ],
   "source": [
    "!python training/train_model_rf.py \\\n",
    "    --training-input data/df_train_feature_engineering.csv \\\n",
    "    --test-input data/df_test_feature_engineering.csv \\\n",
    "    --model-output-dir models"
   ]
  },
  {
   "cell_type": "markdown",
   "metadata": {},
   "source": [
    "### Random forest with SMOTE and feature selection"
   ]
  },
  {
   "cell_type": "code",
   "execution_count": 35,
   "metadata": {},
   "outputs": [
    {
     "name": "stdout",
     "output_type": "stream",
     "text": [
      "2023-09-23 21:05:54,455 - __main__ - INFO - Running k-fold cross-validation\n",
      "2023-09-23 21:05:54,901 - __main__ - INFO - Fold 1: Accuracy=81.971% | F1-score=83.292% | AUC=0.821\n",
      "2023-09-23 21:05:55,343 - __main__ - INFO - Fold 2: Accuracy=82.566% | F1-score=84.138% | AUC=0.824\n",
      "2023-09-23 21:05:55,789 - __main__ - INFO - Fold 3: Accuracy=81.050% | F1-score=82.587% | AUC=0.811\n",
      "2023-09-23 21:05:56,302 - __main__ - INFO - Fold 4: Accuracy=81.700% | F1-score=83.066% | AUC=0.818\n",
      "2023-09-23 21:05:56,776 - __main__ - INFO - Fold 5: Accuracy=82.124% | F1-score=83.680% | AUC=0.821\n",
      "2023-09-23 21:05:56,777 - __main__ - INFO - CV Accuracy: Mean 81.882% & STD 0.502%\n",
      "2023-09-23 21:05:56,777 - __main__ - INFO - CV F1-score: Mean 83.352% & STD  0.528%\n",
      "2023-09-23 21:05:56,777 - __main__ - INFO - CV AUC: Mean 0.819 & STD  0.004\n",
      "2023-09-23 21:05:57,274 - __main__ - INFO - test set - Accuracy : 76.451%\n",
      "2023-09-23 21:05:57,274 - __main__ - INFO - test set - F1-score : 54.902%\n",
      "2023-09-23 21:05:57,274 - __main__ - INFO - test set - AUC: 0.794\n",
      "2023-09-23 21:05:57,280 - __main__ - INFO - Classification_report \n",
      "              precision    recall  f1-score   support\n",
      "\n",
      "           0       0.96      0.75      0.84       243\n",
      "           1       0.41      0.84      0.55        50\n",
      "\n",
      "    accuracy                           0.76       293\n",
      "   macro avg       0.68      0.79      0.69       293\n",
      "weighted avg       0.86      0.76      0.79       293\n",
      "\n",
      "2023-09-23 21:05:57,281 - __main__ - INFO - Confusion matrix: \n",
      "[[182  61]\n",
      " [  8  42]]\n",
      "2023-09-23 21:05:57,286 - __main__ - INFO - {'bootstrap': True, 'ccp_alpha': 0.0, 'class_weight': None, 'criterion': 'gini', 'max_depth': 5, 'max_features': 'sqrt', 'max_leaf_nodes': None, 'max_samples': None, 'min_impurity_decrease': 0.0, 'min_samples_leaf': 1, 'min_samples_split': 2, 'min_weight_fraction_leaf': 0.0, 'n_estimators': 100, 'n_jobs': None, 'oob_score': False, 'random_state': 8071, 'verbose': 0, 'warm_start': False}\n",
      "2023-09-23 21:05:57,286 - __main__ - INFO - Feature importances:\n",
      "2023-09-23 21:05:57,286 - __main__ - INFO -         feature_name      coef  coef_abs\n",
      "1                age  0.649353  0.649353\n",
      "3          work_type  0.090789  0.090789\n",
      "5                bmi  0.089980  0.089980\n",
      "2       hypertension  0.053715  0.053715\n",
      "4  avg_glucose_level  0.043105  0.043105\n",
      "6     smoking_status  0.040373  0.040373\n",
      "0             gender  0.032685  0.032685\n"
     ]
    }
   ],
   "source": [
    "!python training/train_model_rf.py \\\n",
    "    --training-input data/df_train_feature_engineering_smote_selection.csv \\\n",
    "    --test-input data/df_test_feature_engineering_selection.csv \\\n",
    "    --model-output-dir models"
   ]
  },
  {
   "cell_type": "markdown",
   "metadata": {},
   "source": [
    "### Random forest with SMOTE and feature selection and hyperparameter tuning\n",
    "![hyperparameter-tuning](images/rf-hp-tuning.png)"
   ]
  },
  {
   "cell_type": "code",
   "execution_count": 36,
   "metadata": {},
   "outputs": [
    {
     "name": "stdout",
     "output_type": "stream",
     "text": [
      "2023-09-23 21:06:09,088 - __main__ - INFO - Running k-fold cross-validation\n",
      "2023-09-23 21:06:10,716 - __main__ - INFO - Fold 1: Accuracy=89.009% | F1-score=89.288% | AUC=0.891\n",
      "2023-09-23 21:06:12,276 - __main__ - INFO - Fold 2: Accuracy=88.630% | F1-score=89.186% | AUC=0.886\n",
      "2023-09-23 21:06:13,821 - __main__ - INFO - Fold 3: Accuracy=89.117% | F1-score=89.404% | AUC=0.891\n",
      "2023-09-23 21:06:15,407 - __main__ - INFO - Fold 4: Accuracy=88.468% | F1-score=88.900% | AUC=0.885\n",
      "2023-09-23 21:06:16,963 - __main__ - INFO - Fold 5: Accuracy=89.382% | F1-score=89.738% | AUC=0.894\n",
      "2023-09-23 21:06:16,964 - __main__ - INFO - CV Accuracy: Mean 88.921% & STD 0.331%\n",
      "2023-09-23 21:06:16,964 - __main__ - INFO - CV F1-score: Mean 89.303% & STD  0.274%\n",
      "2023-09-23 21:06:16,964 - __main__ - INFO - CV AUC: Mean 0.889 & STD  0.003\n",
      "2023-09-23 21:06:18,885 - __main__ - INFO - test set - Accuracy : 78.157%\n",
      "2023-09-23 21:06:18,885 - __main__ - INFO - test set - F1-score : 54.286%\n",
      "2023-09-23 21:06:18,885 - __main__ - INFO - test set - AUC: 0.773\n",
      "2023-09-23 21:06:18,891 - __main__ - INFO - Classification_report \n",
      "              precision    recall  f1-score   support\n",
      "\n",
      "           0       0.94      0.79      0.86       243\n",
      "           1       0.42      0.76      0.54        50\n",
      "\n",
      "    accuracy                           0.78       293\n",
      "   macro avg       0.68      0.77      0.70       293\n",
      "weighted avg       0.85      0.78      0.80       293\n",
      "\n",
      "2023-09-23 21:06:18,892 - __main__ - INFO - Confusion matrix: \n",
      "[[191  52]\n",
      " [ 12  38]]\n",
      "2023-09-23 21:06:18,905 - __main__ - INFO - {'bootstrap': True, 'ccp_alpha': 0.0, 'class_weight': None, 'criterion': 'gini', 'max_depth': 50, 'max_features': 'sqrt', 'max_leaf_nodes': None, 'max_samples': None, 'min_impurity_decrease': 0.0, 'min_samples_leaf': 1, 'min_samples_split': 10, 'min_weight_fraction_leaf': 0.0, 'n_estimators': 200, 'n_jobs': None, 'oob_score': False, 'random_state': 8071, 'verbose': 0, 'warm_start': False}\n",
      "2023-09-23 21:06:18,905 - __main__ - INFO - Feature importances:\n",
      "2023-09-23 21:06:18,905 - __main__ - INFO -         feature_name      coef  coef_abs\n",
      "1                age  0.487565  0.487565\n",
      "5                bmi  0.163188  0.163188\n",
      "4  avg_glucose_level  0.138919  0.138919\n",
      "3          work_type  0.081790  0.081790\n",
      "6     smoking_status  0.050924  0.050924\n",
      "2       hypertension  0.043233  0.043233\n",
      "0             gender  0.034381  0.034381\n"
     ]
    }
   ],
   "source": [
    "!python training/train_model_rf.py \\\n",
    "    --training-input data/df_train_feature_engineering_smote_selection.csv \\\n",
    "    --test-input data/df_test_feature_engineering_selection.csv \\\n",
    "    --model-output-dir models \\\n",
    "    --n-estimators 200 \\\n",
    "    --max-depth 50 \\\n",
    "    --min-samples-split 10"
   ]
  },
  {
   "cell_type": "markdown",
   "metadata": {},
   "source": [
    "### LightGBM without SMOTE and feature selection"
   ]
  },
  {
   "cell_type": "code",
   "execution_count": 40,
   "metadata": {},
   "outputs": [
    {
     "name": "stdout",
     "output_type": "stream",
     "text": [
      "2023-09-23 21:12:37,439 - __main__ - INFO - Running k-fold cross-validation\n",
      "2023-09-23 21:12:37,996 - __main__ - INFO - Fold 1: Accuracy=95.747% | F1-score=4.651% | AUC=0.511\n",
      "2023-09-23 21:12:38,519 - __main__ - INFO - Fold 2: Accuracy=96.469% | F1-score=5.556% | AUC=0.514\n",
      "2023-09-23 21:12:39,004 - __main__ - INFO - Fold 3: Accuracy=96.366% | F1-score=10.256% | AUC=0.527\n",
      "2023-09-23 21:12:39,475 - __main__ - INFO - Fold 4: Accuracy=94.393% | F1-score=3.571% | AUC=0.509\n",
      "2023-09-23 21:12:40,390 - __main__ - INFO - Fold 5: Accuracy=95.846% | F1-score=4.762% | AUC=0.512\n",
      "2023-09-23 21:12:40,390 - __main__ - INFO - CV Accuracy: Mean 95.764% & STD 0.741%\n",
      "2023-09-23 21:12:40,390 - __main__ - INFO - CV F1-score: Mean 5.759% & STD  2.336%\n",
      "2023-09-23 21:12:40,391 - __main__ - INFO - CV AUC: Mean 0.515 & STD  0.007\n",
      "2023-09-23 21:12:40,829 - __main__ - INFO - test set - Accuracy : 82.935%\n",
      "2023-09-23 21:12:40,829 - __main__ - INFO - test set - F1-score : 0.000%\n",
      "2023-09-23 21:12:40,829 - __main__ - INFO - test set - AUC: 0.500\n",
      "/Users/macos/miniconda3/envs/mle/lib/python3.8/site-packages/sklearn/metrics/_classification.py:1344: UndefinedMetricWarning: Precision and F-score are ill-defined and being set to 0.0 in labels with no predicted samples. Use `zero_division` parameter to control this behavior.\n",
      "  _warn_prf(average, modifier, msg_start, len(result))\n",
      "/Users/macos/miniconda3/envs/mle/lib/python3.8/site-packages/sklearn/metrics/_classification.py:1344: UndefinedMetricWarning: Precision and F-score are ill-defined and being set to 0.0 in labels with no predicted samples. Use `zero_division` parameter to control this behavior.\n",
      "  _warn_prf(average, modifier, msg_start, len(result))\n",
      "/Users/macos/miniconda3/envs/mle/lib/python3.8/site-packages/sklearn/metrics/_classification.py:1344: UndefinedMetricWarning: Precision and F-score are ill-defined and being set to 0.0 in labels with no predicted samples. Use `zero_division` parameter to control this behavior.\n",
      "  _warn_prf(average, modifier, msg_start, len(result))\n",
      "2023-09-23 21:12:40,844 - __main__ - INFO - Classification_report \n",
      "              precision    recall  f1-score   support\n",
      "\n",
      "           0       0.83      1.00      0.91       243\n",
      "           1       0.00      0.00      0.00        50\n",
      "\n",
      "    accuracy                           0.83       293\n",
      "   macro avg       0.41      0.50      0.45       293\n",
      "weighted avg       0.69      0.83      0.75       293\n",
      "\n",
      "2023-09-23 21:12:40,846 - __main__ - INFO - Confusion matrix: \n",
      "[[243   0]\n",
      " [ 50   0]]\n",
      "2023-09-23 21:12:40,851 - __main__ - INFO - {'boosting_type': 'gbdt', 'class_weight': None, 'colsample_bytree': 1.0, 'importance_type': 'split', 'learning_rate': 0.1, 'max_depth': 5, 'min_child_samples': 20, 'min_child_weight': 0.001, 'min_split_gain': 0.0, 'n_estimators': 100, 'n_jobs': -1, 'num_leaves': 31, 'objective': None, 'random_state': 8071, 'reg_alpha': 0.0, 'reg_lambda': 0.0, 'silent': 'warn', 'subsample': 1.0, 'subsample_for_bin': 200000, 'subsample_freq': 0}\n",
      "2023-09-23 21:12:40,851 - __main__ - INFO - Feature importances:\n",
      "2023-09-23 21:12:40,851 - __main__ - INFO -         feature_name  coef  coef_abs\n",
      "8                bmi   681       681\n",
      "1                age   572       572\n",
      "7  avg_glucose_level   569       569\n",
      "9     smoking_status   112       112\n",
      "0             gender    75        75\n",
      "5          work_type    57        57\n",
      "2       hypertension    41        41\n",
      "6     Residence_type    37        37\n",
      "3      heart_disease    22        22\n",
      "4       ever_married    15        15\n"
     ]
    }
   ],
   "source": [
    "!python training/train_model_lightgbm.py \\\n",
    "    --training-input data/df_train_feature_engineering.csv \\\n",
    "    --test-input data/df_test_feature_engineering.csv \\\n",
    "    --model-output-dir models"
   ]
  },
  {
   "cell_type": "markdown",
   "metadata": {},
   "source": [
    "### LightGBM with SMOTE and feature selection"
   ]
  },
  {
   "cell_type": "code",
   "execution_count": 41,
   "metadata": {},
   "outputs": [
    {
     "name": "stdout",
     "output_type": "stream",
     "text": [
      "2023-09-23 21:13:11,054 - __main__ - INFO - Running k-fold cross-validation\n",
      "2023-09-23 21:13:11,617 - __main__ - INFO - Fold 1: Accuracy=89.875% | F1-score=90.090% | AUC=0.899\n",
      "2023-09-23 21:13:12,034 - __main__ - INFO - Fold 2: Accuracy=89.659% | F1-score=90.280% | AUC=0.896\n",
      "2023-09-23 21:13:12,477 - __main__ - INFO - Fold 3: Accuracy=88.901% | F1-score=89.250% | AUC=0.889\n",
      "2023-09-23 21:13:12,989 - __main__ - INFO - Fold 4: Accuracy=89.063% | F1-score=89.555% | AUC=0.891\n",
      "2023-09-23 21:13:13,926 - __main__ - INFO - Fold 5: Accuracy=89.328% | F1-score=89.659% | AUC=0.893\n",
      "2023-09-23 21:13:13,926 - __main__ - INFO - CV Accuracy: Mean 89.365% & STD 0.362%\n",
      "2023-09-23 21:13:13,927 - __main__ - INFO - CV F1-score: Mean 89.767% & STD  0.372%\n",
      "2023-09-23 21:13:13,927 - __main__ - INFO - CV AUC: Mean 0.894 & STD  0.003\n",
      "2023-09-23 21:13:14,593 - __main__ - INFO - test set - Accuracy : 70.990%\n",
      "2023-09-23 21:13:14,593 - __main__ - INFO - test set - F1-score : 48.485%\n",
      "2023-09-23 21:13:14,593 - __main__ - INFO - test set - AUC: 0.746\n",
      "2023-09-23 21:13:14,602 - __main__ - INFO - Classification_report \n",
      "              precision    recall  f1-score   support\n",
      "\n",
      "           0       0.94      0.69      0.80       243\n",
      "           1       0.35      0.80      0.48        50\n",
      "\n",
      "    accuracy                           0.71       293\n",
      "   macro avg       0.65      0.75      0.64       293\n",
      "weighted avg       0.84      0.71      0.74       293\n",
      "\n",
      "2023-09-23 21:13:14,603 - __main__ - INFO - Confusion matrix: \n",
      "[[168  75]\n",
      " [ 10  40]]\n",
      "2023-09-23 21:13:14,606 - __main__ - INFO - {'boosting_type': 'gbdt', 'class_weight': None, 'colsample_bytree': 1.0, 'importance_type': 'split', 'learning_rate': 0.1, 'max_depth': 5, 'min_child_samples': 20, 'min_child_weight': 0.001, 'min_split_gain': 0.0, 'n_estimators': 100, 'n_jobs': -1, 'num_leaves': 31, 'objective': None, 'random_state': 8071, 'reg_alpha': 0.0, 'reg_lambda': 0.0, 'silent': 'warn', 'subsample': 1.0, 'subsample_for_bin': 200000, 'subsample_freq': 0}\n",
      "2023-09-23 21:13:14,606 - __main__ - INFO - Feature importances:\n",
      "2023-09-23 21:13:14,606 - __main__ - INFO -         feature_name  coef  coef_abs\n",
      "1                age   835       835\n",
      "5                bmi   543       543\n",
      "4  avg_glucose_level   448       448\n",
      "6     smoking_status   174       174\n",
      "3          work_type   173       173\n",
      "0             gender   124       124\n",
      "2       hypertension    82        82\n"
     ]
    }
   ],
   "source": [
    "!python training/train_model_lightgbm.py \\\n",
    "    --training-input data/df_train_feature_engineering_smote_selection.csv \\\n",
    "    --test-input data/df_test_feature_engineering_selection.csv \\\n",
    "    --model-output-dir models"
   ]
  },
  {
   "cell_type": "markdown",
   "metadata": {},
   "source": [
    "### XGBoost without SMOTE and feature selection"
   ]
  },
  {
   "cell_type": "code",
   "execution_count": 42,
   "metadata": {},
   "outputs": [
    {
     "name": "stdout",
     "output_type": "stream",
     "text": [
      "2023-09-23 21:15:56,387 - __main__ - INFO - Running k-fold cross-validation\n",
      "2023-09-23 21:15:56,599 - __main__ - INFO - Fold 1: Accuracy=96.058% | F1-score=5.000% | AUC=0.513\n",
      "2023-09-23 21:15:56,904 - __main__ - INFO - Fold 2: Accuracy=96.366% | F1-score=5.405% | AUC=0.513\n",
      "2023-09-23 21:15:57,119 - __main__ - INFO - Fold 3: Accuracy=96.366% | F1-score=5.405% | AUC=0.514\n",
      "2023-09-23 21:15:57,300 - __main__ - INFO - Fold 4: Accuracy=94.289% | F1-score=3.509% | AUC=0.508\n",
      "2023-09-23 21:15:57,478 - __main__ - INFO - Fold 5: Accuracy=95.639% | F1-score=0.000% | AUC=0.498\n",
      "2023-09-23 21:15:57,478 - __main__ - INFO - CV Accuracy: Mean 95.743% & STD 0.775%\n",
      "2023-09-23 21:15:57,478 - __main__ - INFO - CV F1-score: Mean 3.864% & STD  2.054%\n",
      "2023-09-23 21:15:57,479 - __main__ - INFO - CV AUC: Mean 0.509 & STD  0.006\n",
      "2023-09-23 21:15:57,693 - __main__ - INFO - test set - Accuracy : 82.935%\n",
      "2023-09-23 21:15:57,693 - __main__ - INFO - test set - F1-score : 0.000%\n",
      "2023-09-23 21:15:57,693 - __main__ - INFO - test set - AUC: 0.500\n",
      "/Users/macos/miniconda3/envs/mle/lib/python3.8/site-packages/sklearn/metrics/_classification.py:1344: UndefinedMetricWarning: Precision and F-score are ill-defined and being set to 0.0 in labels with no predicted samples. Use `zero_division` parameter to control this behavior.\n",
      "  _warn_prf(average, modifier, msg_start, len(result))\n",
      "/Users/macos/miniconda3/envs/mle/lib/python3.8/site-packages/sklearn/metrics/_classification.py:1344: UndefinedMetricWarning: Precision and F-score are ill-defined and being set to 0.0 in labels with no predicted samples. Use `zero_division` parameter to control this behavior.\n",
      "  _warn_prf(average, modifier, msg_start, len(result))\n",
      "/Users/macos/miniconda3/envs/mle/lib/python3.8/site-packages/sklearn/metrics/_classification.py:1344: UndefinedMetricWarning: Precision and F-score are ill-defined and being set to 0.0 in labels with no predicted samples. Use `zero_division` parameter to control this behavior.\n",
      "  _warn_prf(average, modifier, msg_start, len(result))\n",
      "2023-09-23 21:15:57,708 - __main__ - INFO - Classification_report \n",
      "              precision    recall  f1-score   support\n",
      "\n",
      "           0       0.83      1.00      0.91       243\n",
      "           1       0.00      0.00      0.00        50\n",
      "\n",
      "    accuracy                           0.83       293\n",
      "   macro avg       0.41      0.50      0.45       293\n",
      "weighted avg       0.69      0.83      0.75       293\n",
      "\n",
      "2023-09-23 21:15:57,709 - __main__ - INFO - Confusion matrix: \n",
      "[[243   0]\n",
      " [ 50   0]]\n",
      "2023-09-23 21:15:57,713 - __main__ - INFO - {'objective': 'binary:logistic', 'use_label_encoder': None, 'base_score': None, 'booster': None, 'callbacks': None, 'colsample_bylevel': None, 'colsample_bynode': None, 'colsample_bytree': None, 'early_stopping_rounds': None, 'enable_categorical': False, 'eval_metric': None, 'feature_types': None, 'gamma': None, 'gpu_id': None, 'grow_policy': None, 'importance_type': None, 'interaction_constraints': None, 'learning_rate': 0.1, 'max_bin': None, 'max_cat_threshold': None, 'max_cat_to_onehot': None, 'max_delta_step': None, 'max_depth': 5, 'max_leaves': None, 'min_child_weight': None, 'missing': nan, 'monotone_constraints': None, 'n_estimators': 100, 'n_jobs': None, 'num_parallel_tree': None, 'predictor': None, 'random_state': 8071, 'reg_alpha': None, 'reg_lambda': None, 'sampling_method': None, 'scale_pos_weight': None, 'subsample': None, 'tree_method': None, 'validate_parameters': None, 'verbosity': None}\n",
      "2023-09-23 21:15:57,713 - __main__ - INFO - Feature importances:\n",
      "2023-09-23 21:15:57,713 - __main__ - INFO -         feature_name      coef  coef_abs\n",
      "1                age  0.237262  0.237262\n",
      "3      heart_disease  0.109379  0.109379\n",
      "9     smoking_status  0.098098  0.098098\n",
      "4       ever_married  0.089373  0.089373\n",
      "8                bmi  0.083605  0.083605\n",
      "2       hypertension  0.083331  0.083331\n",
      "0             gender  0.081809  0.081809\n",
      "5          work_type  0.081649  0.081649\n",
      "7  avg_glucose_level  0.074078  0.074078\n",
      "6     Residence_type  0.061417  0.061417\n"
     ]
    }
   ],
   "source": [
    "!python training/train_model_xgboost.py \\\n",
    "    --training-input data/df_train_feature_engineering.csv \\\n",
    "    --test-input data/df_test_feature_engineering.csv \\\n",
    "    --model-output-dir models"
   ]
  },
  {
   "cell_type": "markdown",
   "metadata": {},
   "source": [
    "### XGBoost with SMOTE and feature selection"
   ]
  },
  {
   "cell_type": "code",
   "execution_count": 43,
   "metadata": {},
   "outputs": [
    {
     "name": "stdout",
     "output_type": "stream",
     "text": [
      "2023-09-23 21:16:21,089 - __main__ - INFO - Running k-fold cross-validation\n",
      "2023-09-23 21:16:21,398 - __main__ - INFO - Fold 1: Accuracy=89.063% | F1-score=89.357% | AUC=0.891\n",
      "2023-09-23 21:16:21,704 - __main__ - INFO - Fold 2: Accuracy=89.767% | F1-score=90.362% | AUC=0.897\n",
      "2023-09-23 21:16:22,002 - __main__ - INFO - Fold 3: Accuracy=88.738% | F1-score=89.178% | AUC=0.888\n",
      "2023-09-23 21:16:22,296 - __main__ - INFO - Fold 4: Accuracy=88.684% | F1-score=89.243% | AUC=0.887\n",
      "2023-09-23 21:16:22,589 - __main__ - INFO - Fold 5: Accuracy=88.732% | F1-score=89.189% | AUC=0.887\n",
      "2023-09-23 21:16:22,589 - __main__ - INFO - CV Accuracy: Mean 88.997% & STD 0.408%\n",
      "2023-09-23 21:16:22,590 - __main__ - INFO - CV F1-score: Mean 89.466% & STD  0.453%\n",
      "2023-09-23 21:16:22,590 - __main__ - INFO - CV AUC: Mean 0.890 & STD  0.004\n",
      "2023-09-23 21:16:22,943 - __main__ - INFO - test set - Accuracy : 72.355%\n",
      "2023-09-23 21:16:22,943 - __main__ - INFO - test set - F1-score : 50.909%\n",
      "2023-09-23 21:16:22,943 - __main__ - INFO - test set - AUC: 0.770\n",
      "2023-09-23 21:16:22,950 - __main__ - INFO - Classification_report \n",
      "              precision    recall  f1-score   support\n",
      "\n",
      "           0       0.96      0.70      0.81       243\n",
      "           1       0.37      0.84      0.51        50\n",
      "\n",
      "    accuracy                           0.72       293\n",
      "   macro avg       0.66      0.77      0.66       293\n",
      "weighted avg       0.85      0.72      0.76       293\n",
      "\n",
      "2023-09-23 21:16:22,952 - __main__ - INFO - Confusion matrix: \n",
      "[[170  73]\n",
      " [  8  42]]\n",
      "2023-09-23 21:16:22,954 - __main__ - INFO - {'objective': 'binary:logistic', 'use_label_encoder': None, 'base_score': None, 'booster': None, 'callbacks': None, 'colsample_bylevel': None, 'colsample_bynode': None, 'colsample_bytree': None, 'early_stopping_rounds': None, 'enable_categorical': False, 'eval_metric': None, 'feature_types': None, 'gamma': None, 'gpu_id': None, 'grow_policy': None, 'importance_type': None, 'interaction_constraints': None, 'learning_rate': 0.1, 'max_bin': None, 'max_cat_threshold': None, 'max_cat_to_onehot': None, 'max_delta_step': None, 'max_depth': 5, 'max_leaves': None, 'min_child_weight': None, 'missing': nan, 'monotone_constraints': None, 'n_estimators': 100, 'n_jobs': None, 'num_parallel_tree': None, 'predictor': None, 'random_state': 8071, 'reg_alpha': None, 'reg_lambda': None, 'sampling_method': None, 'scale_pos_weight': None, 'subsample': None, 'tree_method': None, 'validate_parameters': None, 'verbosity': None}\n",
      "2023-09-23 21:16:22,954 - __main__ - INFO - Feature importances:\n",
      "2023-09-23 21:16:22,954 - __main__ - INFO -         feature_name      coef  coef_abs\n",
      "1                age  0.363757  0.363757\n",
      "3          work_type  0.163186  0.163186\n",
      "0             gender  0.153898  0.153898\n",
      "2       hypertension  0.116322  0.116322\n",
      "6     smoking_status  0.081876  0.081876\n",
      "5                bmi  0.061262  0.061262\n",
      "4  avg_glucose_level  0.059699  0.059699\n"
     ]
    }
   ],
   "source": [
    "!python training/train_model_xgboost.py \\\n",
    "    --training-input data/df_train_feature_engineering_smote_selection.csv \\\n",
    "    --test-input data/df_test_feature_engineering_selection.csv \\\n",
    "    --model-output-dir models"
   ]
  },
  {
   "cell_type": "code",
   "execution_count": 45,
   "metadata": {},
   "outputs": [
    {
     "data": {
      "text/html": [
       "<div>\n",
       "<style scoped>\n",
       "    .dataframe tbody tr th:only-of-type {\n",
       "        vertical-align: middle;\n",
       "    }\n",
       "\n",
       "    .dataframe tbody tr th {\n",
       "        vertical-align: top;\n",
       "    }\n",
       "\n",
       "    .dataframe thead th {\n",
       "        text-align: right;\n",
       "    }\n",
       "</style>\n",
       "<table border=\"1\" class=\"dataframe\">\n",
       "  <thead>\n",
       "    <tr style=\"text-align: right;\">\n",
       "      <th></th>\n",
       "      <th>model</th>\n",
       "      <th>accuracy</th>\n",
       "      <th>f1_score</th>\n",
       "      <th>AUC</th>\n",
       "    </tr>\n",
       "  </thead>\n",
       "  <tbody>\n",
       "    <tr>\n",
       "      <th>0</th>\n",
       "      <td>Logistic Regression</td>\n",
       "      <td>82.935%</td>\n",
       "      <td>0%</td>\n",
       "      <td>0.500</td>\n",
       "    </tr>\n",
       "    <tr>\n",
       "      <th>1</th>\n",
       "      <td>Logistic Regression (SMOTE + Feature Selection)</td>\n",
       "      <td>78.840%</td>\n",
       "      <td>56.338%</td>\n",
       "      <td>0.793</td>\n",
       "    </tr>\n",
       "    <tr>\n",
       "      <th>2</th>\n",
       "      <td>Random Forest</td>\n",
       "      <td>82.935%</td>\n",
       "      <td>0%</td>\n",
       "      <td>0.500</td>\n",
       "    </tr>\n",
       "    <tr>\n",
       "      <th>3</th>\n",
       "      <td>Random Forest (SMOTE + Feature Selection)</td>\n",
       "      <td>76.451%</td>\n",
       "      <td>54.902%</td>\n",
       "      <td>0.794</td>\n",
       "    </tr>\n",
       "    <tr>\n",
       "      <th>4</th>\n",
       "      <td>Random Forest (SMOTE + Feature Selection + HP ...</td>\n",
       "      <td>78.157%</td>\n",
       "      <td>54.286%</td>\n",
       "      <td>0.773</td>\n",
       "    </tr>\n",
       "    <tr>\n",
       "      <th>5</th>\n",
       "      <td>LightGBM</td>\n",
       "      <td>82.935%</td>\n",
       "      <td>0%</td>\n",
       "      <td>0.500</td>\n",
       "    </tr>\n",
       "    <tr>\n",
       "      <th>6</th>\n",
       "      <td>LightGBM (SMOTE + Feature Selection)</td>\n",
       "      <td>70.990%</td>\n",
       "      <td>48.485%</td>\n",
       "      <td>0.746</td>\n",
       "    </tr>\n",
       "    <tr>\n",
       "      <th>7</th>\n",
       "      <td>XGBoost</td>\n",
       "      <td>82.935%</td>\n",
       "      <td>0%</td>\n",
       "      <td>0.500</td>\n",
       "    </tr>\n",
       "    <tr>\n",
       "      <th>8</th>\n",
       "      <td>XGBoost (SMOTE + Feature Selection)</td>\n",
       "      <td>72.355%</td>\n",
       "      <td>50.909%</td>\n",
       "      <td>0.770</td>\n",
       "    </tr>\n",
       "  </tbody>\n",
       "</table>\n",
       "</div>"
      ],
      "text/plain": [
       "                                               model accuracy f1_score    AUC\n",
       "0                                Logistic Regression  82.935%       0%  0.500\n",
       "1    Logistic Regression (SMOTE + Feature Selection)  78.840%  56.338%  0.793\n",
       "2                                      Random Forest  82.935%       0%  0.500\n",
       "3          Random Forest (SMOTE + Feature Selection)  76.451%  54.902%  0.794\n",
       "4  Random Forest (SMOTE + Feature Selection + HP ...  78.157%  54.286%  0.773\n",
       "5                                           LightGBM  82.935%       0%  0.500\n",
       "6               LightGBM (SMOTE + Feature Selection)  70.990%  48.485%  0.746\n",
       "7                                            XGBoost  82.935%       0%  0.500\n",
       "8                XGBoost (SMOTE + Feature Selection)  72.355%  50.909%  0.770"
      ]
     },
     "execution_count": 45,
     "metadata": {},
     "output_type": "execute_result"
    }
   ],
   "source": [
    "df_evaluate_metrics = pd.DataFrame({\n",
    "        'model': ['Logistic Regression', 'Logistic Regression (SMOTE + Feature Selection)', 'Random Forest', 'Random Forest (SMOTE + Feature Selection)', 'Random Forest (SMOTE + Feature Selection + HP tuning)', 'LightGBM', 'LightGBM (SMOTE + Feature Selection)', 'XGBoost', 'XGBoost (SMOTE + Feature Selection)'],\n",
    "        'accuracy': ['82.935%', '78.840%', '82.935%', '76.451%', '78.157%', '82.935%', '70.990%', '82.935%', '72.355%'],\n",
    "        'f1_score': ['0%', '56.338%', '0%', '54.902%', '54.286%', '0%', '48.485%', '0%', '50.909%'],\n",
    "        'AUC': ['0.500', '0.793', '0.500', '0.794', '0.773', '0.500', '0.746', '0.500', '0.770'],\n",
    "    },\n",
    "    columns=['model', 'accuracy', 'f1_score', 'AUC']\n",
    ")\n",
    "df_evaluate_metrics"
   ]
  },
  {
   "cell_type": "markdown",
   "metadata": {},
   "source": [
    "## Confusion matrix"
   ]
  },
  {
   "cell_type": "code",
   "execution_count": 47,
   "metadata": {},
   "outputs": [
    {
     "data": {
      "image/png": "[encoded data removed]",
      "text/plain": [
       "<Figure size 640x480 with 2 Axes>"
      ]
     },
     "metadata": {},
     "output_type": "display_data"
    }
   ],
   "source": [
    "import numpy as np\n",
    "import matplotlib.pyplot as plt\n",
    "from sklearn.metrics import ConfusionMatrixDisplay\n",
    "\n",
    "disp = ConfusionMatrixDisplay(\n",
    "    confusion_matrix=np.array([[243, 0], [50, 0]]),\n",
    "    display_labels=['No Stroke', 'Stroke']\n",
    ")\n",
    "disp.plot()\n",
    "plt.title('Confusion Matrix of raw data')\n",
    "plt.show()"
   ]
  },
  {
   "cell_type": "code",
   "execution_count": 48,
   "metadata": {},
   "outputs": [
    {
     "data": {
      "image/png": "[encoded data removed]",
      "text/plain": [
       "<Figure size 640x480 with 2 Axes>"
      ]
     },
     "metadata": {},
     "output_type": "display_data"
    }
   ],
   "source": [
    "disp = ConfusionMatrixDisplay(\n",
    "    confusion_matrix=np.array([[191, 52], [12, 38]]),\n",
    "    display_labels=['No Stroke', 'Stroke']\n",
    ")\n",
    "disp.plot()\n",
    "plt.title('Confusion Matrix of feature engineering data')\n",
    "plt.show()"
   ]
  },
  {
   "cell_type": "code",
   "execution_count": null,
   "metadata": {},
   "outputs": [],
   "source": []
  }
 ],
 "metadata": {
  "kernelspec": {
   "display_name": "mle",
   "language": "python",
   "name": "python3"
  },
  "language_info": {
   "codemirror_mode": {
    "name": "ipython",
    "version": 3
   },
   "file_extension": ".py",
   "mimetype": "text/x-python",
   "name": "python",
   "nbconvert_exporter": "python",
   "pygments_lexer": "ipython3",
   "version": "3.8.17"
  },
  "orig_nbformat": 4
 },
 "nbformat": 4,
 "nbformat_minor": 2
}
